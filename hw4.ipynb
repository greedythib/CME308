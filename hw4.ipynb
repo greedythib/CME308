{
 "cells": [
  {
   "cell_type": "code",
   "execution_count": 1,
   "metadata": {
    "pycharm": {
     "is_executing": false
    }
   },
   "outputs": [],
   "source": [
    "import numpy as np\n",
    "import scipy.stats\n",
    "import matplotlib.pyplot as plt"
   ]
  },
  {
   "cell_type": "markdown",
   "metadata": {
    "pycharm": {
     "name": "#%% md\n"
    }
   },
   "source": [
    "# Problem 1 "
   ]
  },
  {
   "cell_type": "code",
   "execution_count": 7,
   "metadata": {
    "pycharm": {
     "is_executing": false,
     "name": "#%% \n"
    }
   },
   "outputs": [
    {
     "name": "stdout",
     "output_type": "stream",
     "text": [
      "MC estimate : -1.882505185231479\n",
      "95.0% CI : [-1.884369783570375,-1.8806405868925828]\n",
      "Estimated P(Y_new < -2.1) = 0.35472\n"
     ]
    }
   ],
   "source": [
    "# Problem 1\n",
    "## Question b)\n",
    "s = 1\n",
    "sigma = 0.5\n",
    "X = np.array([-1.41,-0.57,1.12,3.05])\n",
    "Y = np.array([1.69,0.51,-1.08,-2.44])\n",
    "## Posterior parameters estimation.\n",
    "Sigma = ((1/sigma**2) * np.dot(X,X) + (1/s**2))**(-1)\n",
    "M_pos = (1/sigma**2) * Sigma * np.dot(X,Y)\n",
    "\n",
    "xnew = 2.18\n",
    "### MonteCarlo to estimate mu_new\n",
    "n = 100000\n",
    "beta_simul = np.random.normal(loc=M_pos, scale= Sigma**(0.5), size=n)\n",
    "MC_estimate = np.mean(xnew * beta_simul)\n",
    "std_simul = np.std(beta_simul * xnew)\n",
    "### CI\n",
    "alpha = 0.05\n",
    "q = scipy.stats.norm.ppf(1-alpha/2)\n",
    "sup_bound = (q * std_simul) / np.sqrt(n) + MC_estimate\n",
    "inf_bound = - (q * std_simul) / np.sqrt(n) + MC_estimate\n",
    "print(\"MC estimate : {}\".format(MC_estimate))\n",
    "print(\"{}% CI : [{},{}]\".format((1-alpha)*100, inf_bound, sup_bound))\n",
    "\n",
    "## Question c)\n",
    "n = 100000\n",
    "error_simul = np.random.normal(loc=0, scale= 0.5, size= n)\n",
    "Y_new_simul = error_simul + xnew * np.random.normal(loc=M_pos, scale= Sigma**(0.5), size=n)\n",
    "count = 0\n",
    "for i in range(len(Y_new_simul)) :\n",
    "    if Y_new_simul[i] < -2.1 :\n",
    "        count += 1\n",
    "print(\"Estimated P(Y_new < -2.1) = {}\".format(count/n))\n",
    "\n"
   ]
  },
  {
   "cell_type": "markdown",
   "metadata": {
    "pycharm": {
     "name": "#%% md\n"
    }
   },
   "source": [
    "# Problem 3 \n"
   ]
  },
  {
   "cell_type": "code",
   "execution_count": 3,
   "metadata": {
    "pycharm": {
     "is_executing": false,
     "name": "#%%\n"
    }
   },
   "outputs": [
    {
     "name": "stdout",
     "output_type": "stream",
     "text": [
      "Question a)\n",
      "Average time spent in A on the long run : [[0.25]]\n",
      "==================================================\n",
      "Question b)\n",
      "Number of steps before returning to A : [[4.]]\n",
      "==================================================\n",
      "Question d)\n",
      "mu_c = 0.5454545454545454\n",
      "==================================================\n",
      "Question e)\n",
      "p_B = 0.5714285714285714\n",
      "==================================================\n",
      "Question f)\n",
      "Expected number of steps starting from C before returning to A : 2.6363636363636362\n",
      "==================================================\n"
     ]
    },
    {
     "name": "stderr",
     "output_type": "stream",
     "text": [
      "/Users/thibaudbruyelle/opt/anaconda3/envs/myenv/lib/python3.7/site-packages/ipykernel_launcher.py:10: FutureWarning: `rcond` parameter will change to the default of machine precision times ``max(M, N)`` where M and N are the input matrix dimensions.\n",
      "To use the future default and silence this warning we advise to pass `rcond=None`, to keep using the old, explicitly pass `rcond=-1`.\n",
      "  # Remove the CWD from sys.path while we load stuff.\n"
     ]
    }
   ],
   "source": [
    "def solveStationary( A ):\n",
    "    \"\"\" x = xA where x is the answer\n",
    "    x - xA = 0\n",
    "    x( I - A ) = 0 and sum(x) = 1\n",
    "    \"\"\"\n",
    "    n = A.shape[0]\n",
    "    a = np.eye( n ) - A\n",
    "    a = np.vstack( (a.T, np.ones( n )) )\n",
    "    b = np.matrix( [0] * n + [ 1 ] ).T\n",
    "    return np.linalg.lstsq( a, b )[0]\n",
    "\n",
    "\n",
    "#Problem 3\n",
    "P = np.array([[0,1/3,1/3,1/3,0],\n",
    "              [1/3,0,1/3,0,1/3],\n",
    "              [1/2,1/2,0,0,0],\n",
    "              [1/2,0,0,0,1/2],\n",
    "              [0,1/2,0,1/2,0]])\n",
    "n = np.shape(P)[0]\n",
    "## Question a)\n",
    "\n",
    "print(\"Question a)\")\n",
    "print(\"Average time spent in A on the long run : {}\".format(solveStationary(P)[0]))\n",
    "print(\"=\"*50)\n",
    "## Question b)\n",
    "print(\"Question b)\")\n",
    "print(\"Number of steps before returning to A : {}\".format(1/solveStationary(P)[0]))\n",
    "print(\"=\"*50)\n",
    "## Question d)\n",
    "b = [0,-1,0,0,0]\n",
    "P_mod = P.copy()\n",
    "P_mod[:,0] = [0] * n\n",
    "print(\"Question d)\")\n",
    "print(\"mu_c = {}\".format(np.linalg.solve(P_mod.T - np.eye(n),b)[2]))\n",
    "print(\"=\"*50)\n",
    "\n",
    "## Question e)\n",
    "P_mod2 = np.array([[0,0,1/3],\n",
    "                   [0,0,0.5],\n",
    "                   [1/2,1/2,0]])\n",
    "b = [-1/3,-1/2,0]\n",
    "\n",
    "# np.linalg.solve(P_mod2 - np.eye(n-2),b)\n",
    "print(\"Question e)\")\n",
    "print(\"p_B = {}\".format(np.linalg.solve(P_mod2 - np.eye(n-2),b)[0]))\n",
    "print(\"=\"*50)\n",
    "\n",
    "## Question f)\n",
    "b = [-1] * n\n",
    "np.linalg.solve(P_mod-np.eye(n),b)\n",
    "print(\"Question f)\")\n",
    "print(\"Expected number of steps starting from C before returning to A : {}\".format(np.linalg.solve(P_mod-np.eye(n),b)[2]))\n",
    "print(\"=\"*50)\n",
    "\n"
   ]
  },
  {
   "cell_type": "markdown",
   "metadata": {
    "pycharm": {
     "name": "#%% md\n"
    }
   },
   "source": [
    "# Problem 5\n",
    "\n",
    "## Question b)"
   ]
  },
  {
   "cell_type": "code",
   "execution_count": 4,
   "metadata": {
    "pycharm": {
     "is_executing": false,
     "name": "#%% \n"
    }
   },
   "outputs": [
    {
     "data": {
      "image/png": "[encoded data removed]",
      "text/plain": [
       "<Figure size 432x288 with 1 Axes>"
      ]
     },
     "metadata": {
      "needs_background": "light"
     },
     "output_type": "display_data"
    },
    {
     "name": "stdout",
     "output_type": "stream",
     "text": [
      "mu_new(1) = 0.6516208944611015\n",
      "mu_new(1) = 0.27193391171686354\n",
      "mu_new(1) = 0.11454252616787614\n"
     ]
    },
    {
     "data": {
      "image/png": "[encoded data removed]",
      "text/plain": [
       "<Figure size 432x288 with 1 Axes>"
      ]
     },
     "metadata": {
      "needs_background": "light"
     },
     "output_type": "display_data"
    }
   ],
   "source": [
    "## Problem 5)\n",
    "def kernel_1(x,y,sigma,r = 0.5) :\n",
    "    return (sigma**2) * np.exp(-r * (x-y)**2)\n",
    "\n",
    "### Estimation of sigma.\n",
    "# def estimate_sigma(Y) :\n",
    "#     sigma_estimates = [i**2 for i in Y]\n",
    "#     return np.mean(sigma_estimates)**0.5\n",
    "\n",
    "## Question b)\n",
    "X = np.array([-1,0,2])\n",
    "Y = np.array([2.4,3.9,-2.8])\n",
    "plt.scatter(X,Y)\n",
    "plt.show()\n",
    "\n",
    "# sigma = 1/2\n",
    "# print(estimate_sigma(Y))\n",
    "\n",
    "def mu_new(x_new, r=0.5) :\n",
    "    K33 = np.zeros((3, 3))\n",
    "    for i in range(3):\n",
    "        for j in range(3):\n",
    "            X_i = X[i]\n",
    "            X_j = X[j]\n",
    "            K33[i, j] = kernel_1(X_i, X_j, sigma,r)\n",
    "    K_3new = np.array([kernel_1(x_new,x,sigma,r) for x in X])\n",
    "    return np.matmul(K_3new, np.matmul(np.linalg.inv(K33), Y))\n",
    "\n",
    "r_val = [0.5,1,2]\n",
    "for r in r_val :\n",
    "    X_new = np.linspace(-3,4,50)\n",
    "    Y_new_expected_values = np.array([mu_new(x_new,r) for x_new in X_new])\n",
    "    print(\"mu_new(1) = {}\".format(mu_new(1,r)))\n",
    "    plt.scatter(X_new, Y_new_expected_values, label = \"r = {}\".format(r), alpha = 0.5)\n",
    "\n",
    "plt.scatter(X,Y)\n",
    "plt.legend()\n",
    "plt.grid()\n",
    "plt.show()\n"
   ]
  },
  {
   "cell_type": "markdown",
   "metadata": {
    "pycharm": {
     "name": "#%% md\n"
    }
   },
   "source": [
    "## Question c)\n",
    "\n",
    "We can observe that when r varies, the slope of the function changes around the point 0, -1 and 2. \n",
    "In fact, when r increases, it reduces the variance between f(x) and f(y) so this is why we can see on the plot that the expected \n",
    "values tend to be higher (for r = 2) (because the expected value is proportional to the inverse of the covariance matrix). "
   ]
  },
  {
   "cell_type": "markdown",
   "metadata": {
    "pycharm": {
     "name": "#%% md\n"
    }
   },
   "source": [
    "# Question d)"
   ]
  },
  {
   "cell_type": "code",
   "execution_count": 6,
   "metadata": {
    "pycharm": {
     "is_executing": false,
     "name": "#%%\n"
    }
   },
   "outputs": [
    {
     "name": "stdout",
     "output_type": "stream",
     "text": [
      "mu_new_2(1) = -1.1897778071888667\n",
      "mu_new_2(1) = 2.317844848622231\n",
      "mu_new_2(1) = 0.6051814078535704\n"
     ]
    },
    {
     "data": {
      "image/png": "[encoded data removed]",
      "text/plain": [
       "<Figure size 432x288 with 1 Axes>"
      ]
     },
     "metadata": {
      "needs_background": "light"
     },
     "output_type": "display_data"
    }
   ],
   "source": [
    "## Question d)\n",
    "def covariance2(r, x, y):\n",
    "    return -2 * r * (x - y) * np.exp(-r * (x - y) ** 2)\n",
    "\n",
    "\n",
    "def covariance3(r, x, y):\n",
    "    return 2 * r * np.exp(-r * (x - y) ** 2) * (1 - 2 * r * (x - y) ** 2)\n",
    "\n",
    "\n",
    "Y = np.array([2.4, 3.9, -2.8, 6.4, -2.0, -0.8])\n",
    "\n",
    "\n",
    "def mu_new_2(xnew, r=0.5):\n",
    "    K_6new = [kernel_1(i, xnew, sigma, r) for i in X] \\\n",
    "             + [covariance2(r, i, xnew) for i in X]\n",
    "\n",
    "    K66 = np.zeros((6, 6))\n",
    "    for i in range(0, 6):\n",
    "        if i < 3:\n",
    "            tab = [kernel_1(j, X[i], sigma, r) for j in X] \\\n",
    "                  + [covariance2(r, j, X[i]) for j in X]\n",
    "        if i >= 3:\n",
    "            tab = [covariance2(r, X[i - 3], j) for j in X] \\\n",
    "              + [covariance3(r, X[i - 3], j) for j in X]\n",
    "        K66[i] = tab\n",
    "    # print(K66)\n",
    "    return np.matmul(K_6new, np.matmul(np.linalg.inv(K66), Y))\n",
    "\n",
    "# Plots\n",
    "r_val = [0.5, 1, 2]\n",
    "for r in r_val:\n",
    "    X_new = np.linspace(-3, 3, 50)\n",
    "    Y_new_expected_values = np.array([mu_new_2(x_new, r) for x_new in X_new])\n",
    "    print(\"mu_new_2(1) = {}\".format(mu_new_2(1, r)))\n",
    "    plt.scatter(X_new, Y_new_expected_values, label=\"r = {}\".format(r), alpha=0.5)\n",
    "\n",
    "plt.scatter(X, Y[0:3], alpha= 1)\n",
    "plt.legend()\n",
    "plt.grid()\n",
    "plt.show()\n",
    "\n"
   ]
  },
  {
   "cell_type": "code",
   "execution_count": null,
   "metadata": {},
   "outputs": [],
   "source": []
  }
 ],
 "metadata": {
  "kernelspec": {
   "display_name": "Python 3",
   "language": "python",
   "name": "python3"
  },
  "language_info": {
   "codemirror_mode": {
    "name": "ipython",
    "version": 3
   },
   "file_extension": ".py",
   "mimetype": "text/x-python",
   "name": "python",
   "nbconvert_exporter": "python",
   "pygments_lexer": "ipython3",
   "version": "3.7.7"
  },
  "pycharm": {
   "stem_cell": {
    "cell_type": "raw",
    "metadata": {
     "collapsed": false
    },
    "source": []
   }
  }
 },
 "nbformat": 4,
 "nbformat_minor": 1
}
