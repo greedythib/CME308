{
 "cells": [
  {
   "cell_type": "markdown",
   "metadata": {
    "pycharm": {
     "name": "#%% md\n"
    }
   },
   "source": [
    "# Homework 2 - T. Bruyelle"
   ]
  },
  {
   "cell_type": "code",
   "execution_count": 1,
   "metadata": {
    "pycharm": {
     "is_executing": false,
     "name": "#%%\n"
    }
   },
   "outputs": [],
   "source": [
    "import matplotlib.pyplot as plt\n",
    "import numpy as np\n",
    "from numpy.random import exponential\n",
    "import statsmodels\n",
    "import scipy.stats"
   ]
  },
  {
   "cell_type": "markdown",
   "metadata": {
    "collapsed": true,
    "pycharm": {
     "name": "#%% md\n"
    }
   },
   "source": [
    "## Problem 3 \n",
    "\n",
    "$longest\\_path\\_length$ is a function such that : \n",
    "$$(z_{1}, \\ldots, z_{6}) \\mapsto max(z_1 + z_2 + z_4, z_1 + z_3, z_5 + z_6)$$\n",
    "\n",
    "This function is used to sample the rv $L$ since we want to estimate $\\mathbb{E}(L)$.\n",
    "\n",
    "### i - Monte Carlo Standard\n",
    "\n",
    "Here our estimator is : \n",
    "$$\\alpha^{(n)}_{MC} = \\frac{1}{n} \\displaystyle \\sum_{i=0}^{n-1}L_{i}$$\n",
    "\n",
    "\n",
    "where $(L_0, \\ldots, L_{n-1})$ are $iid$ observations of $L$. "
   ]
  },
  {
   "cell_type": "code",
   "execution_count": 2,
   "outputs": [
    {
     "name": "stdout",
     "text": [
      "MC (standard) estimator :  21.864768798092282\n",
      "MC (standard) estimated variance :  0.24524257069513458\n"
     ],
     "output_type": "stream"
    }
   ],
   "source": [
    "n = 1000\n",
    "lambda_1 = 1\n",
    "lambda_2 = 1 / 2\n",
    "lambda_3 = 1 / 3\n",
    "lambda_4 = 1 / 4\n",
    "lambda_5 = 1 / 15\n",
    "lambda_6 = 1 / 6\n",
    "\n",
    "def longest_path_length(z1, z2, z3, z4, z5, z6):\n",
    "    return max(z1 + z2 + z4, z1 + z3, z5 + z6)\n",
    "\n",
    "def inverse_cdf_exponential_law(x,mean) :\n",
    "    return mean * np.log(1 / (1-x))\n",
    "\n",
    "## Simulations\n",
    "Z1 = exponential(1/lambda_1,n)\n",
    "Z2 = exponential(1/lambda_2,n)\n",
    "Z3 = exponential(1/lambda_3,n)\n",
    "Z4 = exponential(1/lambda_4,n)\n",
    "Z5 = exponential(1/lambda_5,n)\n",
    "Z6 = exponential(1/lambda_6,n)\n",
    "\n",
    "L = []\n",
    "for i in range(n) :\n",
    "    L.append(longest_path_length(Z1[i],Z2[i],Z3[i],Z4[i],Z5[i],Z6[i]))\n",
    "L = np.array(L)\n",
    "\n",
    "# 1 - MC Standard\n",
    "print(\"MC (standard) estimator : \", np.mean(L))\n",
    "print(\"MC (standard) estimated variance : \", (1/n) * np.var(L))"
   ],
   "metadata": {
    "collapsed": false,
    "pycharm": {
     "name": "#%%\n",
     "is_executing": false
    }
   }
  },
  {
   "cell_type": "markdown",
   "source": [
    "### ii -  Monte-Carlo with Control Variate\n",
    "\n",
    "Let us consider the control variate : \n",
    "$$ C = (Z_{1}, \\ldots, Z_{6})^{T}$$\n",
    "\n",
    "\n",
    "With this setting we would like to estimate $\\mathbb{E}(X)$ where : \n",
    "$$X(\\lambda) := L - \\lambda^{T}(C - \\mathbb{E}(C))$$\n",
    "\n",
    "\n",
    "In order to have the smallest variance, I took :\n",
    "$$\\lambda^{*} = \\Sigma^{-1}   \\left[ {\\begin{array}{cc}\n",
    "   cov(L, Z_1 - \\mathbb{E}(Z_1) ) \\\\\n",
    "   \\vdots \\\\\n",
    "   cov(L, Z_2 - \\mathbb{E}(Z_2) )\\\\\n",
    "  \\end{array} } \\right] $$\n"
   ],
   "metadata": {
    "collapsed": false,
    "pycharm": {
     "name": "#%% md\n",
     "is_executing": false
    }
   }
  },
  {
   "cell_type": "code",
   "execution_count": 3,
   "outputs": [
    {
     "name": "stdout",
     "text": [
      "MC (control variate) estimator :  21.864768798092282\n",
      "MC (control variate) estimated variance :  0.00445476430115628\n",
      "(90.0)% confidence interval :  [ 21.754984653542483 , 21.97455294264208 ]\n"
     ],
     "output_type": "stream"
    }
   ],
   "source": [
    "C = np.array([Z1 - np.mean(Z1),Z2 - np.mean(Z2), Z3 - np.mean(Z3),\n",
    "              Z4 - np.mean(Z4),Z5 - np.mean(Z5), Z6 - np.mean(Z6)])\n",
    "\n",
    "cov_vec = np.array([np.cov(L,C[0,])[0,1],np.cov(L,C[1,])[0,1],np.cov(L,C[2,])[0,1],\n",
    "                    np.cov(L,C[3,])[0,1],np.cov(L,C[4,])[0,1],np.cov(L,C[5,])[0,1]])\n",
    "Sigma = np.cov([C[0,],C[1,],C[2,],C[3,],C[4,],C[5,]])\n",
    "lambda_star = np.dot(np.linalg.inv(Sigma), cov_vec)\n",
    "\n",
    "L_var_red = L - np.dot(lambda_star, C)\n",
    "print(\"MC (control variate) estimator : \", np.mean(L_var_red))\n",
    "print(\"MC (control variate) estimated variance : \", (1/n) * np.var(L_var_red))\n",
    "\n",
    "# (1-alpha) % confidence interval.\n",
    "alpha = 0.1\n",
    "z = scipy.stats.norm.ppf(1-alpha/2)\n",
    "inf = np.mean(L_var_red) - (z/np.sqrt(n)) * \\\n",
    "      np.sqrt(np.var(L_var_red))\n",
    "sup = np.mean(L_var_red) + (z/np.sqrt(n)) * \\\n",
    "      np.sqrt(np.var(L_var_red))\n",
    "print(\"({})% confidence interval : \".format((1-alpha)*100),\"[\",inf,\",\", sup, \"]\")"
   ],
   "metadata": {
    "collapsed": false,
    "pycharm": {
     "name": "#%%\n",
     "is_executing": false
    }
   }
  },
  {
   "cell_type": "markdown",
   "source": [
    "### iii - Antithetic Variate\n",
    "\n",
    "As $F_{X}^{-1}(U) \\sim X$ when $U \\sim \\mathcal{U}([0,1])$, we can simulate an exponential law since its cumulative \n",
    "distribution function is easily invertible.\n",
    "\n",
    "Since $U \\sim 1-U$, we can compute the Antithetic Variate Estimator : \n",
    "$$\\alpha_{AV}^{(n)} = \\frac{1}{2n} \\displaystyle \\sum_{i=0}^{n-1} \\phi(U_{i}) + \\phi(1-U_{i})$$\n",
    "\n",
    "where $\\phi : u \\mapsto \\max(F_{\\mathcal{E}(1)}^{-1}(u)+F_{\\mathcal{E}(2)}^{-1}(u)+F_{\\mathcal{E}(4)}^{-1}(u),F_{\\mathcal{E}(1)}^{-1}(u) +\n",
    "F_{\\mathcal{E}(3)}^{-1}(u),F_{\\mathcal{E}(5)}^{-1}(u) + F_{\\mathcal{E}(6)}^{-1}(u))$\n"
   ],
   "metadata": {
    "collapsed": false,
    "pycharm": {
     "name": "#%% md\n"
    }
   }
  },
  {
   "cell_type": "code",
   "execution_count": 4,
   "outputs": [
    {
     "name": "stdout",
     "text": [
      "MC (antithetic variate) estimator :  21.048639554696678\n",
      "MC (antithetic variate) estimated variance :  0.07800097480937127\n",
      "(90.0)% confidence interval :  [ 20.93885541014688 , 21.158423699246477 ]\n"
     ],
     "output_type": "stream"
    }
   ],
   "source": [
    "U = np.random.uniform(0,1,n)\n",
    "\n",
    "Z1_bis = [] ; Z1_bis_trans = []\n",
    "Z2_bis = [] ; Z2_bis_trans = []\n",
    "Z3_bis = [] ; Z3_bis_trans = []\n",
    "Z4_bis = [] ; Z4_bis_trans = []\n",
    "Z5_bis = [] ; Z5_bis_trans = []\n",
    "Z6_bis = [] ; Z6_bis_trans = []\n",
    "\n",
    "for i in range(n) : \n",
    "    Z1_bis.append(inverse_cdf_exponential_law(U[i], 1 / lambda_1))\n",
    "    Z2_bis.append(inverse_cdf_exponential_law(U[i], 1 / lambda_2))\n",
    "    Z3_bis.append(inverse_cdf_exponential_law(U[i], 1 / lambda_3))\n",
    "    Z4_bis.append(inverse_cdf_exponential_law(U[i], 1 / lambda_4))\n",
    "    Z5_bis.append(inverse_cdf_exponential_law(U[i], 1 / lambda_5))\n",
    "    Z6_bis.append(inverse_cdf_exponential_law(U[i], 1 / lambda_6))\n",
    "    # antithetic tranformation of the sample U\n",
    "    Z1_bis_trans.append(inverse_cdf_exponential_law(1-U[i], 1 / lambda_1))\n",
    "    Z2_bis_trans.append(inverse_cdf_exponential_law(1-U[i], 1 / lambda_2))\n",
    "    Z3_bis_trans.append(inverse_cdf_exponential_law(1-U[i], 1 / lambda_3))\n",
    "    Z4_bis_trans.append(inverse_cdf_exponential_law(1-U[i], 1 / lambda_4))\n",
    "    Z5_bis_trans.append(inverse_cdf_exponential_law(1-U[i], 1 / lambda_5))\n",
    "    Z6_bis_trans.append(inverse_cdf_exponential_law(1-U[i], 1 / lambda_6))\n",
    "\n",
    "L_anti = []\n",
    "L_anti_trans = []\n",
    "for i in range(n) :\n",
    "    L_anti.append(longest_path_length(Z1_bis[i],Z2_bis[i],Z3_bis[i],\n",
    "                                      Z4_bis[i],Z5_bis[i],Z6_bis[i]))\n",
    "    L_anti_trans.append(longest_path_length(Z1_bis_trans[i], Z2_bis_trans[i],\n",
    "                                            Z3_bis_trans[i], Z4_bis_trans[i],\n",
    "                                            Z5_bis_trans[i], Z6_bis_trans[i]))\n",
    "L_anti = np.array(L_anti)\n",
    "L_anti_trans = np.array(L_anti_trans)\n",
    "\n",
    "print(\"MC (antithetic variate) estimator : \",\n",
    "      0.5 * np.mean(L_anti + L_anti_trans))\n",
    "print(\"MC (antithetic variate) estimated variance : \",\n",
    "      (0.25 / n) * np.var(L_anti + L_anti_trans))\n",
    "\n",
    "# (1-alpha) % confidence interval.\n",
    "alpha = 0.1\n",
    "z = scipy.stats.norm.ppf(1-alpha/2)\n",
    "inf = 0.5 * np.mean(L_anti + L_anti_trans) - \\\n",
    "      (z/np.sqrt(n)) * np.sqrt(np.var(L_var_red))\n",
    "sup = 0.5 * np.mean(L_anti + L_anti_trans) + \\\n",
    "      (z/np.sqrt(n)) * np.sqrt(np.var(L_var_red))\n",
    "print(\"({})% confidence interval : \".format((1-alpha)*100),\"[\",inf,\",\", sup, \"]\")\n",
    "\n"
   ],
   "metadata": {
    "collapsed": false,
    "pycharm": {
     "name": "#%% \n",
     "is_executing": false
    }
   }
  },
  {
   "cell_type": "markdown",
   "source": [
    "\n",
    "## Problem 4\n",
    "\n",
    "Let us write : \n",
    "$$A := \\{(x,y) \\in \\mathbb{R}^{2} | x \\geq 3 \\quad and  \\quad y \\geq 3 \\}$$.\n",
    "\n",
    "\n",
    "We want to compute : \n",
    "$$p := \\mathbb{P}((X,Y) \\in A) = \\mathbb{E}(\\mathbb{1}_{\\{(X,Y) \\in A\\}})$$.\n",
    "\n",
    "\n",
    "Consequently, we can define the Monte Carlo standard estimator : \n",
    "$$p_{n} := \\frac{1}{n} \\displaystyle \\sum_{i=0}^{n-1} \\mathbb{1}_{\\{(x_{i},y_{i}) \\in A\\}}. $$\n",
    "\n"
   ],
   "metadata": {
    "collapsed": false,
    "pycharm": {
     "name": "#%% md\n"
    }
   }
  },
  {
   "cell_type": "code",
   "execution_count": 5,
   "metadata": {
    "pycharm": {
     "is_executing": false,
     "name": "#%%\n"
    }
   },
   "outputs": [
    {
     "data": {
      "text/plain": "<Figure size 432x288 with 1 Axes>",
      "image/png": "[encoded data removed]"
     },
     "metadata": {
      "needs_background": "light"
     },
     "output_type": "display_data"
    },
    {
     "data": {
      "text/plain": "<Figure size 432x288 with 1 Axes>",
      "image/png": "[encoded data removed]"
     },
     "metadata": {
      "needs_background": "light"
     },
     "output_type": "display_data"
    },
    {
     "data": {
      "text/plain": "<Figure size 432x288 with 1 Axes>",
      "image/png": "[encoded data removed]"
     },
     "metadata": {
      "needs_background": "light"
     },
     "output_type": "display_data"
    }
   ],
   "source": [
    "mean_1 = np.array([0,0])\n",
    "cov = np.array([[1,-0.7],[-0.7,1]])\n",
    "# Simulations\n",
    "for n in [1000, 100000, 1000000] : \n",
    "    X_Y = np.random.multivariate_normal(mean_1, cov, size=n)\n",
    "    # np.cov(X_Y[:,0], X_Y[:,1])\n",
    "    # Plots\n",
    "    plt.scatter(x=X_Y[:,0], y=X_Y[:,1])\n",
    "    plt.vlines(3, ymin=3, ymax = 8, color = \"red\", linestyles='solid')\n",
    "    plt.hlines(3, xmin=3, xmax = 8, color = \"red\")\n",
    "    plt.title(\"n = {} simulations\".format(n))\n",
    "    plt.show()"
   ]
  },
  {
   "cell_type": "markdown",
   "source": [
    "In each case we have $p_{n} = 0 $ so we cannot compute any confidence interval. In order to use importance sampling, let\n",
    "us consider $g$ the pdf of $\\mathcal{N}(   \n",
    "  \\left[ {\\begin{array}{cc}\n",
    "   3 \\\\\n",
    "   3\\\\\n",
    "  \\end{array} } \\right], \n",
    "  \\left[ {\\begin{array}{cc}\n",
    "   1 & -0.7 \\\\\n",
    "   -0.7 & 1 \\\\\n",
    "  \\end{array} } \\right]\n",
    ")$ so we compute : \n",
    "$$\\mathbb{E}_{g}(\\mathbb{1}(Z \\in A) \\frac{f(Z)}{g(Z)})$$\n",
    "\n",
    "\n",
    "where $Z = (X,Y)$ and $f$ is the pdf of $\\mathcal{N}(   \n",
    "  \\left[ {\\begin{array}{cc}\n",
    "   0 \\\\\n",
    "   0\\\\\n",
    "  \\end{array} } \\right], \n",
    "  \\left[ {\\begin{array}{cc}\n",
    "   1 & -0.7 \\\\\n",
    "   -0.7 & 1 \\\\\n",
    "  \\end{array} } \\right]\n",
    ")$. "
   ],
   "metadata": {
    "collapsed": false,
    "pycharm": {
     "name": "#%% md\n"
    }
   }
  },
  {
   "cell_type": "code",
   "execution_count": 6,
   "outputs": [
    {
     "data": {
      "text/plain": "<Figure size 432x288 with 1 Axes>",
      "image/png": "[encoded data removed]"
     },
     "metadata": {
      "needs_background": "light"
     },
     "output_type": "display_data"
    }
   ],
   "source": [
    "# Importance Sampling\n",
    "n = 100000\n",
    "mean_2 = np.array([3,3])\n",
    "Z = np.random.multivariate_normal(mean_2, cov, size=n)\n",
    "f = scipy.stats.multivariate_normal(mean=[0,0], cov=[[1,-0.7],[-0.7,1]])\n",
    "g = scipy.stats.multivariate_normal(mean=[3,3], cov=[[1,-0.7],[-0.7,1]])\n",
    "\n",
    "# Plots \n",
    "plt.scatter(x=Z[:,0], y=Z[:,1])\n",
    "plt.vlines(3, ymin=3, ymax = 8, color = \"red\", linestyles='solid')\n",
    "plt.hlines(3, xmin=3, xmax = 8, color = \"red\")\n",
    "plt.title(\"n = {} simulations\".format(n))\n",
    "plt.show()\n",
    "\n",
    "ratio = [] # only if Z belongs to A\n",
    "for i in range(n) :\n",
    "    if Z[i][0] >= 3 and Z[i][1] > 3 :\n",
    "        ratio.append(f.pdf(Z[i]) / g.pdf(Z[i]))\n",
    "ratio = np.array(ratio)\n",
    "\n"
   ],
   "metadata": {
    "collapsed": false,
    "pycharm": {
     "name": "#%%\n",
     "is_executing": false
    }
   }
  },
  {
   "cell_type": "code",
   "execution_count": 7,
   "outputs": [
    {
     "name": "stdout",
     "text": [
      "100000 simulations\n",
      "p_n =  1.5800395143988255e-15\n",
      "Estimated variance of the estimator :  3.234379190118752e-34\n",
      "(90.0)% confidence interval :  [ 1.5800395143988253e-15 , 1.5800395143988257e-15 ]\n"
     ],
     "output_type": "stream"
    }
   ],
   "source": [
    "print(\"{} simulations\".format(n))\n",
    "print(\"p_n = \", np.mean(ratio))\n",
    "print(\"Estimated variance of the estimator : \", (1/n) * np.var(ratio))\n",
    "\n",
    "# (1-alpha) % confidence interval.\n",
    "alpha = 0.1\n",
    "z = scipy.stats.norm.ppf(1-alpha/2)\n",
    "inf = np.mean(ratio) - (z/np.sqrt(n)) * np.var(ratio)\n",
    "sup = np.mean(ratio) + (z/np.sqrt(n)) * np.var(ratio)\n",
    "print(\"({})% confidence interval : \".format((1-alpha)*100),\"[\",inf,\",\", sup, \"]\")"
   ],
   "metadata": {
    "collapsed": false,
    "pycharm": {
     "name": "#%%\n",
     "is_executing": false
    }
   }
  }
 ],
 "metadata": {
  "kernelspec": {
   "display_name": "Python 3",
   "language": "python",
   "name": "python3"
  },
  "language_info": {
   "codemirror_mode": {
    "name": "ipython",
    "version": 3
   },
   "file_extension": ".py",
   "mimetype": "text/x-python",
   "name": "python",
   "nbconvert_exporter": "python",
   "pygments_lexer": "ipython3",
   "version": "3.7.7"
  },
  "pycharm": {
   "stem_cell": {
    "cell_type": "raw",
    "source": [],
    "metadata": {
     "collapsed": false
    }
   }
  }
 },
 "nbformat": 4,
 "nbformat_minor": 1
}