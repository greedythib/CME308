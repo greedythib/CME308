{
 "cells": [
  {
   "cell_type": "markdown",
   "metadata": {
    "collapsed": true,
    "pycharm": {
     "name": "#%% md\n"
    }
   },
   "source": [
    "# Problem 3 \n",
    "\n",
    "## Question a)\n",
    "\n",
    "Let us write the likelihood function in this setting : \n",
    "\n",
    "$$L(\\alpha, \\lambda) = f_{\\alpha, \\lambda}(T_{1}) \\times f_{\\alpha, \\lambda}(T_{2}) \\times \\mathbb{P}(T > 100K)\\times \\mathbb{P}(T > 45K)\\times \\mathbb{P}(T > 15K)$$\n",
    "\n",
    "After calculations, the negative log-likelihood is equal to : \n",
    "\n",
    "$$-l(\\alpha, \\lambda) = -[2\\log(\\alpha \\lambda) + (\\alpha - 1)\\log(\\lambda^{2}T_{1}T_{2}) - (\\lambda)^{\\alpha}(T_{1}^{\\alpha} + T_{2}^{\\alpha})] + (\\lambda)^{\\alpha}(T_{3}^{\\alpha}+T_{4}^{\\alpha} + T_{5}^{\\alpha})$$\n",
    "\n",
    "where $T_{1} = 44K, T_{2} = 26K, T_{3} = 100 K, T_{4} = 19K, T_{5} = 45K$. "
   ]
  }
 ],
 "metadata": {
  "kernelspec": {
   "display_name": "Python 3",
   "language": "python",
   "name": "python3"
  },
  "language_info": {
   "codemirror_mode": {
    "name": "ipython",
    "version": 2
   },
   "file_extension": ".py",
   "mimetype": "text/x-python",
   "name": "python",
   "nbconvert_exporter": "python",
   "pygments_lexer": "ipython2",
   "version": "2.7.6"
  },
  "pycharm": {
   "stem_cell": {
    "cell_type": "raw",
    "source": [],
    "metadata": {
     "collapsed": false
    }
   }
  }
 },
 "nbformat": 4,
 "nbformat_minor": 0
}