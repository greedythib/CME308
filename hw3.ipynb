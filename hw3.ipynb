{
 "cells": [
  {
   "cell_type": "markdown",
   "metadata": {
    "collapsed": true,
    "pycharm": {
     "name": "#%% md\n"
    }
   },
   "source": [
    "# Problem 3 \n",
    "\n",
    "## Question a)\n",
    "\n",
    "Let us write the likelihood function in this setting : \n",
    "\n",
    "$$L(\\alpha, \\lambda) = f_{\\alpha, \\lambda}(T_{1}) \\times f_{\\alpha, \\lambda}(T_{2}) \\times \\mathbb{P}(T > 100K)\\times \\mathbb{P}(T > T_4)\\times \\mathbb{P}(T > T_5)$$\n",
    "\n",
    "After calculations, the negative log-likelihood is equal to : \n",
    "\n",
    "$$-l(\\alpha, \\lambda) = -[2\\log(\\alpha \\lambda) + (\\alpha - 1)\\log(\\lambda^{2}T_{1}T_{2}) - (\\lambda)^{\\alpha}(T_{1}^{\\alpha} + T_{2}^{\\alpha})] + (\\lambda)^{\\alpha}(T_{3}^{\\alpha}+T_{4}^{\\alpha} + T_{5}^{\\alpha})$$\n",
    "\n",
    "where $T_{1} = 44K, T_{2} = 26K, T_{3} = 100 K, T_{4} = 19K, T_{5} = 45K$. \n",
    "\n",
    "We can solve the MLE numerically with `scipy` module `optimize`. "
   ]
  },
  {
   "cell_type": "code",
   "execution_count": 14,
   "metadata": {
    "pycharm": {
     "is_executing": false,
     "name": "#%%\n"
    }
   },
   "outputs": [
    {
     "name": "stdout",
     "text": [
      " 171 iterations \n",
      " lambda = 1.0823481787828909e-05 and alpha = 1.535248714292919\n"
     ],
     "output_type": "stream"
    }
   ],
   "source": [
    "import numpy as np\n",
    "from scipy import optimize\n",
    "from scipy.stats import weibull_min\n",
    "from math import gamma\n",
    "\n",
    "# Problem 3\n",
    "T1 = 44 * 10 ** 3\n",
    "T2 = 26 * 10 ** 3\n",
    "T3 = 100 * 10 ** 3\n",
    "T4 = 19 * 10 ** 3\n",
    "T5 = 45 * 10 ** 3\n",
    "\n",
    "\n",
    "def neg_log_L(gamma, alpha) -> float:\n",
    "    A = 2 * np.log(alpha / gamma) + (alpha - 1) * np.log(T1 * T2 / (gamma ** 2)) - \\\n",
    "        ((1 / gamma) ** alpha) * ((T1 ** alpha) + (T2 ** alpha))\n",
    "    B = -((1 / gamma) ** alpha) * (T3 ** alpha + T4 ** alpha + T5 ** alpha)\n",
    "    return -A - B\n",
    "\n",
    "\n",
    "## Numerically solve MLE equations.\n",
    "epsilon = 1 * 10 ** -12\n",
    "x0 = [10, 10]\n",
    "bnds = ((epsilon, np.inf), (epsilon, np.inf))\n",
    "fun = lambda x: neg_log_L(x[0], x[1])\n",
    "solver = optimize.minimize(fun, x0=x0, bounds=bnds)\n",
    "print(\" {} iterations \\n\".format(solver.nit),\n",
    "      \"lambda = {} and alpha = {}\".format(1 / solver.x[0], solver.x[1]))\n"
   ]
  },
  {
   "cell_type": "markdown",
   "metadata": {
    "pycharm": {
     "name": "#%% md\n"
    }
   },
   "source": [
    "## Question b) \n",
    "\n",
    "We want to compute a $(1-\\delta)\\%$ confidence interval for  $\\mathbb{E}(T)$. Theoretically : \n",
    "$$ \\mathbb{E}(T) = \\frac{1}{\\lambda} \\Gamma(1+ \\frac{1}{\\alpha})$$\n",
    "\n",
    "So we have the plug-in estimate of $\\mathbb{E}(T)$ by using $\\hat \\lambda_{MLE}$ and $\\hat \\alpha_{MLE}$. \n",
    "\n",
    "Let us compute a parametric bootstrap confidence interval. \n",
    "\n",
    "- 1) Generate $(\\mu_{n}^{(1)}, \\ldots, \\mu_{n}^{(m)} )$ where $\\mu_{n}^{(i)} = \\frac{1}{n} \\displaystyle \\sum_{k=1}^{n}T_{k}^{(i)}$\n",
    "- 2) Find $x$ and $y$ such that $\\mathbb{P}(\\mu_{n} - \\mu_{*} < x ) = 1 - \\delta/2$ and $\\mathbb{P}(\\mu_{n} - \\mu_{*} < y ) = \\delta/2$  \n",
    "     where $\\mu_{*}$ is the plug-in estimate obtained with the MLE. "
   ]
  },
  {
   "cell_type": "code",
   "execution_count": 15,
   "metadata": {
    "pycharm": {
     "is_executing": false,
     "name": "#%%\n"
    }
   },
   "outputs": [
    {
     "name": "stdout",
     "text": [
      " In average, 83182.41571001986 kms before a reliability problem occurs (plug-in estimation with MLE)\n",
      " delta = 0.1 \n",
      " m = 100 ;  n = 100\n",
      " Prob(mu_n - mu_estimate < 8590) = 0.95\n",
      " Prob(mu_n - mu_estimate < -7900) = 0.05\n",
      " Parametric Boostrap 90.0% confidence interval : [75285.88952493931,91775.88952493931]\n"
     ],
     "output_type": "stream"
    }
   ],
   "source": [
    "## Parametric Boostrap (1-delta) confidence interval\n",
    "lmda = 1 / solver.x[0]\n",
    "alpha = solver.x[1]\n",
    "# reference parameter\n",
    "mu_star = (1 / lmda) * gamma(1 + 1 / alpha)\n",
    "print(\" In average, {} kms before a reliability problem occurs (plug-in estimation with MLE)\".format(mu_star))\n",
    "\n",
    "m = 100  # number of iterations to aggregate\n",
    "bootstrap_estimates = []\n",
    "for i in range(m):\n",
    "    T_bootstrap = weibull_min.rvs(c=alpha, scale=1 / lmda, size=100)\n",
    "    bootstrap_estimates.append(np.mean(T_bootstrap))\n",
    "\n",
    "delta = 0.1\n",
    "print(\" delta = {}\".format(delta), \"\\n\", \"m = {} ; \".format(m), \"n = 100\")\n",
    "# Upper bound : we find x s.t prob(estimate - mu_star < x) = 1-delta/2\n",
    "x = 2000\n",
    "count = 0\n",
    "while (count / m != 1 - delta / 2):\n",
    "    count = 0\n",
    "    for i in range(m):\n",
    "        if bootstrap_estimates[i] - mu_star < x:\n",
    "            count += 1\n",
    "    # print(count / m)\n",
    "    x += 10\n",
    "print(\" Prob(mu_n - mu_estimate < {}) = {}\".format(x, count / m))\n",
    "\n",
    "# Lower bound : we find y s.t prob(estimate - mu_star < y ) = delta/2\n",
    "y = -10000\n",
    "count = 0\n",
    "while (count / m != delta / 2):\n",
    "    count = 0\n",
    "    for i in range(m):\n",
    "        if bootstrap_estimates[i] - mu_star < y:\n",
    "            count += 1\n",
    "    # print(count / m)\n",
    "    y += 10\n",
    "print(\" Prob(mu_n - mu_estimate < {}) = {}\".format(y, count / m))\n",
    "\n",
    "print(\" Parametric Boostrap {}% confidence interval : [{},{}]\".format((1 - delta)*100, -x + np.mean(bootstrap_estimates),\n",
    "                                                                      - y + np.mean(bootstrap_estimates)))"
   ]
  }
 ],
 "metadata": {
  "kernelspec": {
   "display_name": "Python 3",
   "language": "python",
   "name": "python3"
  },
  "language_info": {
   "codemirror_mode": {
    "name": "ipython",
    "version": 3
   },
   "file_extension": ".py",
   "mimetype": "text/x-python",
   "name": "python",
   "nbconvert_exporter": "python",
   "pygments_lexer": "ipython3",
   "version": "3.7.7"
  },
  "pycharm": {
   "stem_cell": {
    "cell_type": "raw",
    "source": [],
    "metadata": {
     "collapsed": false
    }
   }
  }
 },
 "nbformat": 4,
 "nbformat_minor": 1
}